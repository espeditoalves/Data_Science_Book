{
 "cells": [
  {
   "cell_type": "markdown",
   "metadata": {},
   "source": [
    "https://docs.python.org/3/tutorial/datastructures.html\n",
    "\n",
    "Documentação: https://docs.python.org/pt-br/3/library/functions.html"
   ]
  },
  {
   "cell_type": "markdown",
   "metadata": {},
   "source": [
    "# <font color=green> Important Built-in Functions\n",
    "---"
   ]
  },
  {
   "cell_type": "markdown",
   "metadata": {},
   "source": [
    "### 1. `list comprehension`"
   ]
  },
  {
   "cell_type": "markdown",
   "metadata": {},
   "source": [
    "A list comprehension é uma forma concisa e elegante de criar listas em Python. Ela permite que você crie uma nova lista aplicando uma expressão a cada elemento de uma sequência (como uma lista, tupla ou conjunto).\n",
    "1. Sintaxe\n",
    "    * A sintaxe geral de uma list comprehension é: `[expressão for elemento in sequência]`.\n",
    "    * Você pode adicionar uma cláusula if para filtrar elementos: `[expressão for elemento in sequência if condição]`.\n",
    "\n",
    "* Outro opção de Formato padrão:\n",
    "    ```python\n",
    "    [expressão for item in lista]\n",
    "    [expr for item in lista if cond]\n",
    "    ```"
   ]
  },
  {
   "cell_type": "markdown",
   "metadata": {},
   "source": [
    "2. Exemplos"
   ]
  },
  {
   "cell_type": "code",
   "execution_count": 2,
   "metadata": {},
   "outputs": [
    {
     "name": "stdout",
     "output_type": "stream",
     "text": [
      "[1, 4, 9, 16, 25]\n"
     ]
    }
   ],
   "source": [
    "# Criando uma lista de quadrados para\n",
    "numeros = [1, 2, 3, 4, 5]\n",
    "quadrados = [x**2 for x in numeros]\n",
    "print(quadrados)  # Output: [1, 4, 9, 16, 25]\n"
   ]
  },
  {
   "cell_type": "code",
   "execution_count": 3,
   "metadata": {},
   "outputs": [
    {
     "name": "stdout",
     "output_type": "stream",
     "text": [
      "[2, 4, 6, 8, 10]\n"
     ]
    }
   ],
   "source": [
    "# Filtrando números pares\n",
    "numeros = [1, 2, 3, 4, 5, 6, 7, 8, 9, 10]\n",
    "numeros_pares = [x for x in numeros if x % 2 == 0]\n",
    "print(numeros_pares)"
   ]
  },
  {
   "cell_type": "code",
   "execution_count": 4,
   "metadata": {},
   "outputs": [
    {
     "name": "stdout",
     "output_type": "stream",
     "text": [
      "['PYTHON', 'É', 'INCRÍVEL']\n"
     ]
    }
   ],
   "source": [
    "# Criando uma lista de strings em maiúsculas\n",
    "palavras = ['python', 'é', 'incrível']\n",
    "maiusculas = [palavra.upper() for palavra in palavras]\n",
    "print(maiusculas)"
   ]
  },
  {
   "cell_type": "code",
   "execution_count": 5,
   "metadata": {},
   "outputs": [
    {
     "name": "stdout",
     "output_type": "stream",
     "text": [
      "[(1, 1), (2, 4), (3, 9)]\n"
     ]
    }
   ],
   "source": [
    "# Gerando uma lista de tuplas\n",
    "numeros = [1,2,3]\n",
    "tuplas = [(x, x**2) for x in numeros]\n",
    "print(tuplas)"
   ]
  },
  {
   "cell_type": "markdown",
   "metadata": {},
   "source": [
    "### 2. `Lambda`"
   ]
  },
  {
   "cell_type": "markdown",
   "metadata": {},
   "source": [
    "As funções lambda em Python são funções anônimas que podem ser definidas em uma única linha de código. Elas são úteis para criar pequenas funções sem a necessidade de dar um nome a elas. \n",
    "\n",
    "https://docs.python.org/pt-br/3/reference/expressions.html?#lambda\n",
    "1. Sintaxe:\n",
    "    * A sintaxe geral de uma função lambda é: `lambda argumentos: expressão`.\n",
    "    * Você pode usar uma função lambda em qualquer lugar onde normalmente usaria uma função regular.\n",
    "  \n",
    "* Outra opção de formato Geral\n",
    "    ```python\n",
    "    lambda <variavel_entrada>: <expressao>\n",
    "    ```"
   ]
  },
  {
   "cell_type": "markdown",
   "metadata": {},
   "source": [
    "2. Exemplos"
   ]
  },
  {
   "cell_type": "code",
   "execution_count": 6,
   "metadata": {},
   "outputs": [
    {
     "name": "stdout",
     "output_type": "stream",
     "text": [
      "10\n"
     ]
    }
   ],
   "source": [
    "# Função que retorna o quadrado de um número\n",
    "dobrar = lambda x_entrada: x_entrada * 2\n",
    "print(dobrar(5))"
   ]
  },
  {
   "cell_type": "code",
   "execution_count": 7,
   "metadata": {},
   "outputs": [
    {
     "name": "stdout",
     "output_type": "stream",
     "text": [
      "False\n"
     ]
    }
   ],
   "source": [
    "# Função que verifica se um numero é par\n",
    "eh_par = lambda x_entrada: x_entrada % 2 == 0\n",
    "print(eh_par(7))"
   ]
  },
  {
   "cell_type": "code",
   "execution_count": 8,
   "metadata": {},
   "outputs": [
    {
     "name": "stdout",
     "output_type": "stream",
     "text": [
      "Resultado: [3, 5, 7, 9]\n"
     ]
    }
   ],
   "source": [
    "# Função que soma 2 em cada elemento de uma lista\n",
    "soma_dois = lambda lista_entrada: [x + 2 for x in lista_entrada]\n",
    "\n",
    "# Exemplo de uso:\n",
    "numeros = [1, 3, 5, 7]\n",
    "resultado = soma_dois(numeros)\n",
    "print(f\"Resultado: {resultado}\")\n"
   ]
  },
  {
   "cell_type": "code",
   "execution_count": 9,
   "metadata": {},
   "outputs": [
    {
     "data": {
      "text/plain": [
       "[{'nome': 'Laranja', 'preco': 0.1},\n",
       " {'nome': 'Banana', 'preco': 1.8},\n",
       " {'nome': 'Maçã', 'preco': 2.5}]"
      ]
     },
     "execution_count": 9,
     "metadata": {},
     "output_type": "execute_result"
    }
   ],
   "source": [
    "# Função para order um dicionario\n",
    "produtos = [\n",
    "    {\"nome\": \"Maçã\", \"preco\": 2.5},\n",
    "    {\"nome\": \"Banana\", \"preco\": 1.8},\n",
    "    {\"nome\": \"Laranja\", \"preco\": 0.1}\n",
    "]\n",
    "produtos_ordenados = sorted(produtos, key=lambda preso_entrada: preso_entrada[\"preco\"])\n",
    "produtos_ordenados"
   ]
  },
  {
   "cell_type": "code",
   "execution_count": 10,
   "metadata": {},
   "outputs": [
    {
     "name": "stdout",
     "output_type": "stream",
     "text": [
      "[1, 4, 9, 16, 25]\n"
     ]
    }
   ],
   "source": [
    "# Mapeamento de uma lista: Aplicando uma função `lambda` em uma lista\n",
    "numeros = [1, 2, 3, 4, 5]\n",
    "quadrados = list(\n",
    "    map(lambda x_entrada: x_entrada**2, numeros)\n",
    "    )\n",
    "print(quadrados)\n"
   ]
  },
  {
   "cell_type": "code",
   "execution_count": 11,
   "metadata": {},
   "outputs": [
    {
     "data": {
      "text/plain": [
       "[2, 4, 6, 8, 10]"
      ]
     },
     "execution_count": 11,
     "metadata": {},
     "output_type": "execute_result"
    }
   ],
   "source": [
    "# Filtrando uma lista: Aplicando uma função `lambda` em uma lista\n",
    "numeros = [1, 2, 3, 4, 5, 6, 7, 8, 9, 10]\n",
    "\n",
    "numeros_pares = list(\n",
    "    filter(lambda x_entrada: x_entrada % 2 == 0, numeros )\n",
    ")\n",
    "numeros_pares"
   ]
  },
  {
   "cell_type": "markdown",
   "metadata": {},
   "source": [
    "### 3. `Map`"
   ]
  },
  {
   "cell_type": "markdown",
   "metadata": {},
   "source": [
    "A função map() em Python é usada para aplicar uma função a cada elemento de uma sequência (como uma lista, tupla ou conjunto) e retornar um iterador com os resultados.\n",
    "1. Sintaxe:\n",
    "    * A sintaxe geral da função map() é: `map(funcao, sequencia)`.\n",
    "    * A função funcao é aplicada a cada elemento da sequencia.\n",
    "\n",
    "* Outra oção de formato Geral:\n",
    "    ```python\n",
    "    map(<lambda function>, <iterador>)\n",
    "    ```"
   ]
  },
  {
   "cell_type": "code",
   "execution_count": 12,
   "metadata": {},
   "outputs": [
    {
     "name": "stdout",
     "output_type": "stream",
     "text": [
      "[1, 4, 9, 16, 25]\n"
     ]
    }
   ],
   "source": [
    "# Eleva cada número ao quadrado: Aplica uma função em cada element de uma lista\n",
    "numeros = [1, 2, 3, 4, 5]\n",
    "quadrados = list(\n",
    "    map(lambda x_entrada: x_entrada**2, numeros)\n",
    "    )\n",
    "print(quadrados)\n"
   ]
  },
  {
   "cell_type": "code",
   "execution_count": 13,
   "metadata": {},
   "outputs": [
    {
     "name": "stdout",
     "output_type": "stream",
     "text": [
      "['PYTHON', 'É', 'INCRÍVEL']\n"
     ]
    }
   ],
   "source": [
    "palavras = [\"python\", \"é\", \"incrível\"]\n",
    "resultado = list(\n",
    "    map(lambda x_entrada: x_entrada.upper(), palavras)\n",
    ")\n",
    "print(resultado)"
   ]
  },
  {
   "cell_type": "markdown",
   "metadata": {},
   "source": [
    "### 3. `Filter`"
   ]
  },
  {
   "cell_type": "markdown",
   "metadata": {},
   "source": [
    "A função `filter()` em Python é usada para filtrar elementos de uma sequência (como uma lista, tupla ou conjunto) com base em uma condição especificada. Ela retorna um iterador contendo apenas os elementos que atendem à condição"
   ]
  },
  {
   "cell_type": "markdown",
   "metadata": {},
   "source": [
    "1. Sintaxe:\n",
    "    * A sintaxe geral da função filter() é: `filter(funcao, sequencia)`.\n",
    "    * A função funcao deve retornar True ou False para cada elemento da sequencia."
   ]
  },
  {
   "cell_type": "markdown",
   "metadata": {},
   "source": [
    "2.Exemplo"
   ]
  },
  {
   "cell_type": "code",
   "execution_count": 14,
   "metadata": {},
   "outputs": [
    {
     "name": "stdout",
     "output_type": "stream",
     "text": [
      "[2, 4]\n"
     ]
    }
   ],
   "source": [
    "# Filtrando números pares: Aplicando a um filtro em uma lista de elementos\n",
    "numeros = [1, 2, 3, 4, 5]\n",
    "numeros_pares = list(\n",
    "    filter(lambda x: x % 2 == 0, numeros)\n",
    "    )\n",
    "print(numeros_pares)\n"
   ]
  },
  {
   "cell_type": "markdown",
   "metadata": {},
   "source": [
    "### 4. `Zip()`"
   ]
  },
  {
   "cell_type": "markdown",
   "metadata": {},
   "source": [
    "O zip() é uma função embutida do Python que combina elementos de duas ou mais sequências, como listas ou tuplas. Ele cria um iterador que produz tuplas contendo um elemento de cada sequência. \n",
    "O zip() é uma ferramenta poderosa para combinar e descompactar sequências.\n",
    "\n",
    "1. sintaxe: `zip(iterável1, iterável2, ...)`"
   ]
  },
  {
   "cell_type": "markdown",
   "metadata": {},
   "source": [
    "2. Exemplo"
   ]
  },
  {
   "cell_type": "code",
   "execution_count": 18,
   "metadata": {},
   "outputs": [
    {
     "name": "stdout",
     "output_type": "stream",
     "text": [
      "[(1, 'a'), (2, 'b'), (3, 'c')]\n"
     ]
    }
   ],
   "source": [
    "# Usando zip() para combinar as listas\n",
    "lista1 = [1, 2, 3]\n",
    "lista2 = ['a', 'b', 'c']\n",
    "\n",
    "combinacao = list(\n",
    "    zip(lista1, lista2)\n",
    ")\n",
    "\n",
    "print(combinacao) \n"
   ]
  },
  {
   "cell_type": "code",
   "execution_count": 22,
   "metadata": {},
   "outputs": [
    {
     "name": "stdout",
     "output_type": "stream",
     "text": [
      "(1, 2, 3)\n",
      "('a', 'b', 'c')\n",
      "--------------------------------\n",
      "[(1, 'a'), (2, 'b'), (3, 'c')]\n",
      "(1, 'a') (2, 'b') (3, 'c')\n"
     ]
    }
   ],
   "source": [
    "# Descompactando uma lista de tuplas\n",
    "\n",
    "tuplas = [(1, 'a'), (2, 'b'), (3, 'c')]\n",
    "\n",
    "# Usando zip() para descompactar as tuplas\n",
    "descompactado1, descompactado2 = zip(*tuplas)\n",
    "\n",
    "print(descompactado1)\n",
    "print(descompactado2)\n",
    "\n",
    "print(\"--------------------------------\")\n",
    "print(tuplas)\n",
    "print(*tuplas)\n"
   ]
  },
  {
   "cell_type": "code",
   "execution_count": null,
   "metadata": {},
   "outputs": [],
   "source": []
  },
  {
   "cell_type": "markdown",
   "metadata": {},
   "source": [
    "## Entendendo algumas diferenças entre MAP e FILTER"
   ]
  },
  {
   "cell_type": "code",
   "execution_count": 16,
   "metadata": {},
   "outputs": [
    {
     "name": "stdout",
     "output_type": "stream",
     "text": [
      "[2]\n"
     ]
    }
   ],
   "source": [
    "numeros = [1, 2, 3, 4, 5]\n",
    "\n",
    "# Eleva cada número ao quadrado, e filtra baseado em uma condição.\n",
    "quadrados = list(\n",
    "    filter(lambda x: x**2 == 4, numeros)\n",
    "    )\n",
    "print(quadrados)\n"
   ]
  },
  {
   "cell_type": "code",
   "execution_count": 17,
   "metadata": {},
   "outputs": [
    {
     "name": "stdout",
     "output_type": "stream",
     "text": [
      "[False, True, False, False, False]\n"
     ]
    }
   ],
   "source": [
    "numeros = [1, 2, 3, 4, 5]\n",
    "\n",
    "# Eleva cada número ao quadrado e verifica uma condição.\n",
    "quadrados = list(\n",
    "    map(lambda x: x**2 == 4, numeros)\n",
    "    )\n",
    "print(quadrados)\n"
   ]
  }
 ],
 "metadata": {
  "kernelspec": {
   "display_name": "hdinsightJupyter",
   "language": "python",
   "name": "python3"
  },
  "language_info": {
   "codemirror_mode": {
    "name": "ipython",
    "version": 3
   },
   "file_extension": ".py",
   "mimetype": "text/x-python",
   "name": "python",
   "nbconvert_exporter": "python",
   "pygments_lexer": "ipython3",
   "version": "3.11.4"
  }
 },
 "nbformat": 4,
 "nbformat_minor": 2
}
