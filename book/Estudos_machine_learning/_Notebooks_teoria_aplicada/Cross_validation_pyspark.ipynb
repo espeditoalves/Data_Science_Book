{
 "cells": [
  {
   "cell_type": "code",
   "execution_count": null,
   "metadata": {},
   "outputs": [],
   "source": [
    "########################################\n",
    "## Title: Spark MLlib Linear Regression Script, with Cross-Validation and Parameter Sweep\n",
    "## Language: PySpark\n",
    "## Author: Colby T. Ford, Ph.D.\n",
    "########################################\n",
    "\n",
    "from pyspark.ml.regression import LinearRegression\n",
    "from pyspark.ml.tuning import ParamGridBuilder, CrossValidator\n",
    "from pyspark.ml.evaluation import RegressionEvaluator\n",
    "\n",
    "# Create initial LinearRegression model\n",
    "lr = LinearRegression(labelCol=\"label\", featuresCol=\"features\")\n",
    "\n",
    "\n",
    "# Create ParamGrid for Cross Validation\n",
    "lrparamGrid = (ParamGridBuilder()\n",
    "             .addGrid(lr.regParam, [0.001, 0.01, 0.1, 0.5, 1.0, 2.0])\n",
    "             #  .addGrid(lr.regParam, [0.01, 0.1, 0.5])\n",
    "             .addGrid(lr.elasticNetParam, [0.0, 0.25, 0.5, 0.75, 1.0])\n",
    "             #  .addGrid(lr.elasticNetParam, [0.0, 0.5, 1.0])\n",
    "             .addGrid(lr.maxIter, [1, 5, 10, 20, 50])\n",
    "             #  .addGrid(lr.maxIter, [1, 5, 10])\n",
    "             .build())\n",
    "\n",
    "# Evaluate model\n",
    "lrevaluator = RegressionEvaluator(predictionCol=\"prediction\", labelCol=\"label\", metricName=\"rmse\")\n",
    "\n",
    "# Create 5-fold CrossValidator\n",
    "lrcv = CrossValidator(estimator = lr,\n",
    "                    estimatorParamMaps = lrparamGrid,\n",
    "                    evaluator = lrevaluator,\n",
    "                    numFolds = 5)\n",
    "\n",
    "# Run cross validations\n",
    "lrcvModel = lrcv.fit(train)\n",
    "print(lrcvModel)\n",
    "\n",
    "# Get Model Summary Statistics\n",
    "lrcvSummary = lrcvModel.bestModel.summary\n",
    "print(\"Coefficient Standard Errors: \" + str(lrcvSummary.coefficientStandardErrors))\n",
    "print(\"P Values: \" + str(lrcvSummary.pValues)) # Last element is the intercept\n",
    "\n",
    "# Use test set here so we can measure the accuracy of our model on new data\n",
    "lrpredictions = lrcvModel.transform(test)\n",
    "\n",
    "# cvModel uses the best model found from the Cross Validation\n",
    "# Evaluate best model\n",
    "print('RMSE:', lrevaluator.evaluate(lrpredictions))"
   ]
  }
 ],
 "metadata": {
  "language_info": {
   "name": "python"
  }
 },
 "nbformat": 4,
 "nbformat_minor": 2
}
