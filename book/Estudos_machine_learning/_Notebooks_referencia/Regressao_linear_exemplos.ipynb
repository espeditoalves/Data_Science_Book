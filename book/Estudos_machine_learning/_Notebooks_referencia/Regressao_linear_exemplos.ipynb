{
 "cells": [
  {
   "attachments": {},
   "cell_type": "markdown",
   "metadata": {},
   "source": [
    "# 1° Exemplo Simples"
   ]
  },
  {
   "cell_type": "code",
   "execution_count": 22,
   "metadata": {},
   "outputs": [
    {
     "data": {
      "text/html": [
       "<style>#sk-container-id-3 {color: black;background-color: white;}#sk-container-id-3 pre{padding: 0;}#sk-container-id-3 div.sk-toggleable {background-color: white;}#sk-container-id-3 label.sk-toggleable__label {cursor: pointer;display: block;width: 100%;margin-bottom: 0;padding: 0.3em;box-sizing: border-box;text-align: center;}#sk-container-id-3 label.sk-toggleable__label-arrow:before {content: \"▸\";float: left;margin-right: 0.25em;color: #696969;}#sk-container-id-3 label.sk-toggleable__label-arrow:hover:before {color: black;}#sk-container-id-3 div.sk-estimator:hover label.sk-toggleable__label-arrow:before {color: black;}#sk-container-id-3 div.sk-toggleable__content {max-height: 0;max-width: 0;overflow: hidden;text-align: left;background-color: #f0f8ff;}#sk-container-id-3 div.sk-toggleable__content pre {margin: 0.2em;color: black;border-radius: 0.25em;background-color: #f0f8ff;}#sk-container-id-3 input.sk-toggleable__control:checked~div.sk-toggleable__content {max-height: 200px;max-width: 100%;overflow: auto;}#sk-container-id-3 input.sk-toggleable__control:checked~label.sk-toggleable__label-arrow:before {content: \"▾\";}#sk-container-id-3 div.sk-estimator input.sk-toggleable__control:checked~label.sk-toggleable__label {background-color: #d4ebff;}#sk-container-id-3 div.sk-label input.sk-toggleable__control:checked~label.sk-toggleable__label {background-color: #d4ebff;}#sk-container-id-3 input.sk-hidden--visually {border: 0;clip: rect(1px 1px 1px 1px);clip: rect(1px, 1px, 1px, 1px);height: 1px;margin: -1px;overflow: hidden;padding: 0;position: absolute;width: 1px;}#sk-container-id-3 div.sk-estimator {font-family: monospace;background-color: #f0f8ff;border: 1px dotted black;border-radius: 0.25em;box-sizing: border-box;margin-bottom: 0.5em;}#sk-container-id-3 div.sk-estimator:hover {background-color: #d4ebff;}#sk-container-id-3 div.sk-parallel-item::after {content: \"\";width: 100%;border-bottom: 1px solid gray;flex-grow: 1;}#sk-container-id-3 div.sk-label:hover label.sk-toggleable__label {background-color: #d4ebff;}#sk-container-id-3 div.sk-serial::before {content: \"\";position: absolute;border-left: 1px solid gray;box-sizing: border-box;top: 0;bottom: 0;left: 50%;z-index: 0;}#sk-container-id-3 div.sk-serial {display: flex;flex-direction: column;align-items: center;background-color: white;padding-right: 0.2em;padding-left: 0.2em;position: relative;}#sk-container-id-3 div.sk-item {position: relative;z-index: 1;}#sk-container-id-3 div.sk-parallel {display: flex;align-items: stretch;justify-content: center;background-color: white;position: relative;}#sk-container-id-3 div.sk-item::before, #sk-container-id-3 div.sk-parallel-item::before {content: \"\";position: absolute;border-left: 1px solid gray;box-sizing: border-box;top: 0;bottom: 0;left: 50%;z-index: -1;}#sk-container-id-3 div.sk-parallel-item {display: flex;flex-direction: column;z-index: 1;position: relative;background-color: white;}#sk-container-id-3 div.sk-parallel-item:first-child::after {align-self: flex-end;width: 50%;}#sk-container-id-3 div.sk-parallel-item:last-child::after {align-self: flex-start;width: 50%;}#sk-container-id-3 div.sk-parallel-item:only-child::after {width: 0;}#sk-container-id-3 div.sk-dashed-wrapped {border: 1px dashed gray;margin: 0 0.4em 0.5em 0.4em;box-sizing: border-box;padding-bottom: 0.4em;background-color: white;}#sk-container-id-3 div.sk-label label {font-family: monospace;font-weight: bold;display: inline-block;line-height: 1.2em;}#sk-container-id-3 div.sk-label-container {text-align: center;}#sk-container-id-3 div.sk-container {/* jupyter's `normalize.less` sets `[hidden] { display: none; }` but bootstrap.min.css set `[hidden] { display: none !important; }` so we also need the `!important` here to be able to override the default hidden behavior on the sphinx rendered scikit-learn.org. See: https://github.com/scikit-learn/scikit-learn/issues/21755 */display: inline-block !important;position: relative;}#sk-container-id-3 div.sk-text-repr-fallback {display: none;}</style><div id=\"sk-container-id-3\" class=\"sk-top-container\"><div class=\"sk-text-repr-fallback\"><pre>LinearRegression()</pre><b>In a Jupyter environment, please rerun this cell to show the HTML representation or trust the notebook. <br />On GitHub, the HTML representation is unable to render, please try loading this page with nbviewer.org.</b></div><div class=\"sk-container\" hidden><div class=\"sk-item\"><div class=\"sk-estimator sk-toggleable\"><input class=\"sk-toggleable__control sk-hidden--visually\" id=\"sk-estimator-id-3\" type=\"checkbox\" checked><label for=\"sk-estimator-id-3\" class=\"sk-toggleable__label sk-toggleable__label-arrow\">LinearRegression</label><div class=\"sk-toggleable__content\"><pre>LinearRegression()</pre></div></div></div></div></div>"
      ],
      "text/plain": [
       "LinearRegression()"
      ]
     },
     "execution_count": 22,
     "metadata": {},
     "output_type": "execute_result"
    }
   ],
   "source": [
    "# Importar o módulo de regressão linear do sklearn\n",
    "from sklearn.linear_model import LinearRegression\n",
    "\n",
    "# Criar um objeto do tipo LinearRegression\n",
    "model = LinearRegression()\n",
    "\n",
    "# Criar os dados de treinamento (X) e os valores alvo (y)\n",
    "X = [[1.60], [1.65], [1.70], [1.75], [1.80]] # altura em metros\n",
    "y = [50, 55, 60, 65, 70] # peso em quilos\n",
    "\n",
    "# Ajustar o modelo aos dados de treinamento usando o método fit\n",
    "model.fit(X, y)"
   ]
  },
  {
   "cell_type": "code",
   "execution_count": 23,
   "metadata": {},
   "outputs": [
    {
     "name": "stdout",
     "output_type": "stream",
     "text": [
      "O peso estimado para uma pessoa com 1.85 metros de altura é 75.00 quilos.\n"
     ]
    }
   ],
   "source": [
    "# Criar um novo dado de entrada (X_new)\n",
    "X_new = [[1.85]] # altura em metros\n",
    "\n",
    "# Usar o método predict para fazer a previsão\n",
    "y_pred = model.predict(X_new)\n",
    "\n",
    "# Imprimir o resultado\n",
    "print(f\"O peso estimado para uma pessoa com {X_new[0][0]} metros de altura é {y_pred[0]:.2f} quilos.\")"
   ]
  },
  {
   "attachments": {},
   "cell_type": "markdown",
   "metadata": {},
   "source": [
    "# Exemplo prático usando scikit-learn e statsmodels"
   ]
  },
  {
   "cell_type": "code",
   "execution_count": 24,
   "metadata": {},
   "outputs": [],
   "source": [
    "# importando as libs\n",
    "import numpy as np\n",
    "import pandas as pd\n",
    "from sklearn.linear_model import LinearRegression\n",
    "import statsmodels.api as sm\n",
    "# fonte: # fonte: http://www.portalaction.com.br/analise-de-regressao/12-estimacao-dos-parametros-do-modelo\n",
    "# criando variáveis que serão usadas daqui para frente\n",
    "# variável preditora\n",
    "X = np.array([ 220, 220, 220, 220, 220, 225, 225, 225, 225, 225, 230, 230, 230, 230, 230, 235, 235, 235, 235, 235 ])\n",
    "# variável alvo\n",
    "y = np.array([ 137, 137, 137, 136, 135, 135, 133, 132, 133, 133, 128, 124, 126, 129, 126, 122, 122, 122, 119, 122 ])"
   ]
  },
  {
   "cell_type": "code",
   "execution_count": 8,
   "metadata": {},
   "outputs": [
    {
     "data": {
      "text/plain": [
       "array([137.14, 137.14, 137.14, 137.14, 137.14, 131.98, 131.98, 131.98,\n",
       "       131.98, 131.98, 126.82, 126.82, 126.82, 126.82, 126.82, 121.66,\n",
       "       121.66, 121.66, 121.66, 121.66])"
      ]
     },
     "execution_count": 8,
     "metadata": {},
     "output_type": "execute_result"
    }
   ],
   "source": [
    "# é necessário adicionar uma constante a matriz X\n",
    "X_sm = sm.add_constant(X)\n",
    "# OLS vem de Ordinary Least Squares e o método fit irá treinar o modelo\n",
    "results = sm.OLS(y, X_sm).fit()\n",
    "# mostrando as estatísticas do modelo\n",
    "results.summary()\n",
    "# mostrando as previsões para o mesmo conjunto passado\n",
    "results.predict(X_sm)"
   ]
  },
  {
   "attachments": {},
   "cell_type": "markdown",
   "metadata": {},
   "source": [
    "# Escrevendo o modelo com o scikit-learn"
   ]
  },
  {
   "attachments": {},
   "cell_type": "markdown",
   "metadata": {},
   "source": [
    "### Abaixo exemplo de como o metodo fit() é construido "
   ]
  },
  {
   "cell_type": "code",
   "execution_count": 12,
   "metadata": {},
   "outputs": [],
   "source": [
    "# Fonte: https://medium.com/data-hackers/implementando-regress%C3%A3o-linear-simples-em-python-91df53b920a8\n",
    "\n",
    "class SimpleLinearRegression:\n",
    "    def __init__(self):\n",
    "        self.coef_ = None\n",
    "        self.intercept_ = None\n",
    "        self.formula = None\n",
    "        self.X = None\n",
    "        self.y = None\n",
    "    \n",
    "    def fit(self, X, y):\n",
    "        X = np.array(X)\n",
    "        y = np.array(y)\n",
    "        \n",
    "        self.X = X\n",
    "        self.y = y\n",
    "        soma_xy = sum(X * y)\n",
    "        soma_x_ao_quadrado = sum(X * X)\n",
    "        soma_x = sum(X)\n",
    "        soma_y = sum(y)\n",
    "        n = len(X)\n",
    "        media_x = X.mean()\n",
    "        media_y = y.mean()\n",
    "        \n",
    "        # build formula y = ax + b\n",
    "        a = ( soma_xy - n * media_x * media_y ) / ( soma_x_ao_quadrado - n * ( media_x ** 2 ) )\n",
    "        b = media_y - (a * media_x)\n",
    "        \n",
    "        self.coef_ = np.array([ b ])\n",
    "        self.intercept_ = np.array([ a ])\n",
    "        \n",
    "        self.formula = lambda _x : (a * _x) + b\n",
    "    \n",
    "    def predict(self, x):\n",
    "        return np.array(list(map(self.formula, x)))\n",
    "    \n",
    "    # fonte: https://edisciplinas.usp.br/pluginfile.php/1479289/mod_resource/content/0/regr_lin.pdf\n",
    "    def sum_total_quadratic(self):\n",
    "        median = self.y.mean()\n",
    "        return sum( ( y - median ) ** 2 )\n",
    "    \n",
    "    def sum_error_quadratic(self):\n",
    "        predicted = self.predict(x=self.X)\n",
    "        return sum( ( self.y - predicted ) ** 2 )\n",
    "\n",
    "    def regression_quadratic_sum(self):\n",
    "        return self.sum_total_quadratic() - self.sum_error_quadratic()\n",
    "    \n",
    "    def score(self):\n",
    "        return self.regression_quadratic_sum() / self.sum_total_quadratic()"
   ]
  },
  {
   "attachments": {},
   "cell_type": "markdown",
   "metadata": {},
   "source": [
    "# outros exemplos"
   ]
  },
  {
   "cell_type": "code",
   "execution_count": 17,
   "metadata": {},
   "outputs": [
    {
     "name": "stdout",
     "output_type": "stream",
     "text": [
      "O peso estimado para uma pessoa com 1.85 metros de altura é 75.00 quilos.\n"
     ]
    }
   ],
   "source": [
    "df = pd.DataFrame()\n",
    "df['x'] = x\n",
    "df['y'] = y\n",
    "# passando os valores de x e y como Dataframes\n",
    "x_v = df[['x']]\n",
    "y_v = df[['y']]\n",
    "# criando e treinando o modelo\n",
    "model = LinearRegression()\n",
    "model.fit(x_v, y_v)\n",
    "# para visualizar os coeficientes encontrados\n",
    "model.coef_\n",
    "# para visualizar o R²\n",
    "model.score()\n",
    "# mostrando as previsões para o mesmo conjunto passado\n",
    "model.predict(X_sm)"
   ]
  },
  {
   "cell_type": "code",
   "execution_count": 25,
   "metadata": {},
   "outputs": [
    {
     "ename": "NameError",
     "evalue": "name 'X_train' is not defined",
     "output_type": "error",
     "traceback": [
      "\u001b[1;31m---------------------------------------------------------------------------\u001b[0m",
      "\u001b[1;31mNameError\u001b[0m                                 Traceback (most recent call last)",
      "Cell \u001b[1;32mIn[25], line 9\u001b[0m\n\u001b[0;32m      6\u001b[0m model \u001b[39m=\u001b[39m LinearRegression()\n\u001b[0;32m      8\u001b[0m \u001b[39m# Ajustar o modelo aos dados de treinamento usando o método fit\u001b[39;00m\n\u001b[1;32m----> 9\u001b[0m model\u001b[39m.\u001b[39mfit(X_train, y_train)\n\u001b[0;32m     11\u001b[0m \u001b[39m# Fazer previsões para os dados de teste usando o método predict\u001b[39;00m\n\u001b[0;32m     12\u001b[0m y_pred \u001b[39m=\u001b[39m model\u001b[39m.\u001b[39mpredict(X_test)\n",
      "\u001b[1;31mNameError\u001b[0m: name 'X_train' is not defined"
     ]
    }
   ],
   "source": [
    "# Importar as bibliotecas necessárias\n",
    "from sklearn.linear_model import LinearRegression\n",
    "from sklearn.metrics import r2_score, mean_squared_error\n",
    "\n",
    "# Criar um objeto do tipo LinearRegression\n",
    "model = LinearRegression()\n",
    "\n",
    "# Ajustar o modelo aos dados de treinamento usando o método fit\n",
    "model.fit(X_train, y_train)\n",
    "\n",
    "# Fazer previsões para os dados de teste usando o método predict\n",
    "y_pred = model.predict(X_test)\n",
    "\n",
    "# Calcular o R² usando a função r2_score\n",
    "r2 = r2_score(y_test, y_pred)\n",
    "\n",
    "# Calcular o RMSE usando a função mean_squared_error e tirando a raiz quadrada\n",
    "rmse = np.sqrt(mean_squared_error(y_test, y_pred))\n",
    "\n",
    "# Imprimir os resultados\n",
    "print(f\"O coeficiente R² é {r2:.2f}\")\n",
    "print(f\"O RMSE é {rmse:.2f}\")"
   ]
  },
  {
   "cell_type": "code",
   "execution_count": null,
   "metadata": {},
   "outputs": [],
   "source": []
  }
 ],
 "metadata": {
  "kernelspec": {
   "display_name": "base",
   "language": "python",
   "name": "python3"
  },
  "language_info": {
   "codemirror_mode": {
    "name": "ipython",
    "version": 3
   },
   "file_extension": ".py",
   "mimetype": "text/x-python",
   "name": "python",
   "nbconvert_exporter": "python",
   "pygments_lexer": "ipython3",
   "version": "3.10.9"
  },
  "orig_nbformat": 4
 },
 "nbformat": 4,
 "nbformat_minor": 2
}
