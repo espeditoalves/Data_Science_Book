{
 "cells": [
  {
   "cell_type": "markdown",
   "metadata": {},
   "source": [
    "## Validação Cruzada com ShuffleSplit"
   ]
  },
  {
   "cell_type": "code",
   "execution_count": 11,
   "metadata": {},
   "outputs": [],
   "source": [
    "from sklearn.model_selection import ShuffleSplit\n",
    "from sklearn.ensemble import RandomForestClassifier\n",
    "from sklearn.datasets import load_iris\n",
    "from sklearn.model_selection import cross_val_score\n",
    "\n",
    "# Carregar dados de exemplo\n",
    "data = load_iris()\n",
    "X, y = data.data, data.target\n",
    "\n",
    "# Definir o modelo\n",
    "model = RandomForestClassifier()"
   ]
  },
  {
   "cell_type": "code",
   "execution_count": 12,
   "metadata": {},
   "outputs": [
    {
     "name": "stdout",
     "output_type": "stream",
     "text": [
      "Scores de validação cruzada: [1.         0.96666667 0.96666667 0.93333333]\n",
      "Média dos scores: 0.9666666666666668\n",
      "Desvio padrão dos scores: 0.02357022603955158\n"
     ]
    }
   ],
   "source": [
    "# Definir o ShuffleSplit\n",
    "shuffle_split = ShuffleSplit(n_splits=4, test_size=0.2, random_state=42)\n",
    "\n",
    "# Executar validação cruzada usando ShuffleSplit\n",
    "scores = cross_val_score(model, X, y, cv=shuffle_split)\n",
    "\n",
    "# Exibir os resultados\n",
    "print(\"Scores de validação cruzada:\", scores)\n",
    "print(\"Média dos scores:\", scores.mean())\n",
    "print(\"Desvio padrão dos scores:\", scores.std())"
   ]
  },
  {
   "cell_type": "code",
   "execution_count": 13,
   "metadata": {},
   "outputs": [
    {
     "data": {
      "text/plain": [
       "ShuffleSplit(n_splits=4, random_state=42, test_size=0.2, train_size=None)"
      ]
     },
     "execution_count": 13,
     "metadata": {},
     "output_type": "execute_result"
    }
   ],
   "source": [
    "shuffle_split"
   ]
  },
  {
   "cell_type": "code",
   "execution_count": 14,
   "metadata": {},
   "outputs": [
    {
     "name": "stdout",
     "output_type": "stream",
     "text": [
      "Scores de validação cruzada: [0.97368421 0.94736842 0.94594595 1.        ]\n",
      "Média dos scores: 0.9667496443812233\n",
      "Desvio padrão dos scores: 0.02214779922867332\n"
     ]
    }
   ],
   "source": [
    "# Executar validação cruzada\n",
    "scores = cross_val_score(model, X, y, cv=4)  # cv=5 define 5 folds\n",
    "\n",
    "# Exibir os resultados\n",
    "print(\"Scores de validação cruzada:\", scores)\n",
    "print(\"Média dos scores:\", scores.mean())\n",
    "print(\"Desvio padrão dos scores:\", scores.std())\n"
   ]
  },
  {
   "cell_type": "markdown",
   "metadata": {},
   "source": [
    "## Entendendo o `shuffle_split`"
   ]
  },
  {
   "cell_type": "markdown",
   "metadata": {},
   "source": [
    "O `ShuffleSplit` em scikit-learn é um gerador de indices de treinamento e teste para validação cruzada. \n",
    "Ao contrário de métodos que retornam os próprios dados divididos, ShuffleSplit gera índices que podem ser usados para selecionar subconjuntos de treinamento e teste diretamente dos dados originais.\n"
   ]
  },
  {
   "cell_type": "markdown",
   "metadata": {},
   "source": [
    "**O que ShuffleSplit Retorna**\n",
    "\n",
    "O objeto ShuffleSplit não retorna diretamente os dados de treinamento e teste. Em vez disso, ele gera pares de índices (um para treinamento e outro para teste) que você pode usar para dividir seus dados manualmente."
   ]
  },
  {
   "cell_type": "markdown",
   "metadata": {},
   "source": [
    "\n",
    "**Exemplo de Uso**\n",
    "Aqui está um exemplo detalhado de como usar ShuffleSplit e entender o que ele retorna:"
   ]
  },
  {
   "cell_type": "code",
   "execution_count": 23,
   "metadata": {},
   "outputs": [
    {
     "name": "stdout",
     "output_type": "stream",
     "text": [
      "DataFrame:\n",
      "   feature1  feature2  label\n",
      "0         0         5      0\n",
      "1         1         6      1\n",
      "2         2         7      0\n",
      "3         3         8      1\n",
      "4         4         9      0\n",
      "Labels:\n",
      "[0 1 0 1 0]\n",
      "################################\n",
      "Índices de treino: [4 2 0 3]\n",
      "Índices de teste: [1]\n",
      "-----\n",
      "Dados de treino:\n",
      "   feature1  feature2\n",
      "4         4         9\n",
      "2         2         7\n",
      "0         0         5\n",
      "3         3         8\n",
      "[0 0 0 1]\n",
      "Dados de teste:\n",
      "   feature1  feature2\n",
      "1         1         6\n",
      "[1]\n",
      "################################\n",
      "Índices de treino: [1 2 0 4]\n",
      "Índices de teste: [3]\n",
      "-----\n",
      "Dados de treino:\n",
      "   feature1  feature2\n",
      "1         1         6\n",
      "2         2         7\n",
      "0         0         5\n",
      "4         4         9\n",
      "[1 0 0 0]\n",
      "Dados de teste:\n",
      "   feature1  feature2\n",
      "3         3         8\n",
      "[1]\n",
      "################################\n",
      "Índices de treino: [0 3 4 2]\n",
      "Índices de teste: [1]\n",
      "-----\n",
      "Dados de treino:\n",
      "   feature1  feature2\n",
      "0         0         5\n",
      "3         3         8\n",
      "4         4         9\n",
      "2         2         7\n",
      "[0 1 0 0]\n",
      "Dados de teste:\n",
      "   feature1  feature2\n",
      "1         1         6\n",
      "[1]\n"
     ]
    }
   ],
   "source": [
    "import pandas as pd\n",
    "from sklearn.model_selection import ShuffleSplit\n",
    "import numpy as np\n",
    "\n",
    "# Criar dados de exemplo\n",
    "data = {\n",
    "    'feature1': np.arange(5),\n",
    "    'feature2': np.arange(5, 10),\n",
    "    'label': [0, 1, 0, 1, 0]\n",
    "}\n",
    "df = pd.DataFrame(data)\n",
    "X = df[['feature1', 'feature2']]\n",
    "y = df['label']\n",
    "\n",
    "# Configurar o ShuffleSplit\n",
    "shuffle_split = ShuffleSplit(n_splits=3, test_size=0.2, random_state=42)\n",
    "\n",
    "# Mostrar DataFrame e labels\n",
    "print('DataFrame:')\n",
    "print(df)\n",
    "print('Labels:')\n",
    "print(y.values)\n",
    "\n",
    "# Mostrar índices gerados\n",
    "for train_index, test_index in shuffle_split.split(X):\n",
    "    print('################################')\n",
    "    print(\"Índices de treino:\", train_index)\n",
    "    print(\"Índices de teste:\", test_index)\n",
    "    print('-----')\n",
    "    X_train, X_test = X.iloc[train_index], X.iloc[test_index]\n",
    "    y_train, y_test = y.iloc[train_index], y.iloc[test_index]\n",
    "    print(\"Dados de treino:\")\n",
    "    print(X_train)\n",
    "    print(y_train.values)\n",
    "    print(\"Dados de teste:\")\n",
    "    print(X_test)\n",
    "    print(y_test.values)\n",
    "\n",
    "    \n"
   ]
  }
 ],
 "metadata": {
  "kernelspec": {
   "display_name": ".venv",
   "language": "python",
   "name": "python3"
  },
  "language_info": {
   "codemirror_mode": {
    "name": "ipython",
    "version": 3
   },
   "file_extension": ".py",
   "mimetype": "text/x-python",
   "name": "python",
   "nbconvert_exporter": "python",
   "pygments_lexer": "ipython3",
   "version": "3.11.4"
  }
 },
 "nbformat": 4,
 "nbformat_minor": 2
}
