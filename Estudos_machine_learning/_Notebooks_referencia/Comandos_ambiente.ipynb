{
 "cells": [
  {
   "cell_type": "code",
   "execution_count": 1,
   "metadata": {},
   "outputs": [
    {
     "data": {
      "text/plain": [
       "['c:\\\\Users\\\\esped\\\\anaconda3',\n",
       " 'c:\\\\Users\\\\esped\\\\anaconda3\\\\lib\\\\site-packages']"
      ]
     },
     "execution_count": 1,
     "metadata": {},
     "output_type": "execute_result"
    }
   ],
   "source": [
    "\"\"\"\n",
    "O resultado da chamada site.getsitepackages() será uma lista de caminhos onde os pacotes Python podem ser instalados globalmente. \n",
    "Esses caminhos podem ser úteis quando você precisa saber onde os módulos externos estão instalados no seu sistema.\n",
    "\"\"\"\n",
    "import site\n",
    "site.getsitepackages()"
   ]
  },
  {
   "cell_type": "code",
   "execution_count": 2,
   "metadata": {},
   "outputs": [
    {
     "data": {
      "text/plain": [
       "'c:\\\\Users\\\\esped\\\\anaconda3\\\\python.exe'"
      ]
     },
     "execution_count": 2,
     "metadata": {},
     "output_type": "execute_result"
    }
   ],
   "source": [
    "\"\"\"\n",
    "Isso imprimirá o caminho do executável Python associado ao ambiente \n",
    "em que o Jupyter Notebook está sendo executado.\n",
    "\"\"\"\n",
    "import sys\n",
    "sys.executable"
   ]
  },
  {
   "cell_type": "code",
   "execution_count": 3,
   "metadata": {},
   "outputs": [
    {
     "name": "stdout",
     "output_type": "stream",
     "text": [
      "c:\\Users\\esped\\OneDrive\\Documentos\n",
      "c:\\Users\\esped\\anaconda3\\python310.zip\n",
      "c:\\Users\\esped\\anaconda3\\DLLs\n",
      "c:\\Users\\esped\\anaconda3\\lib\n",
      "c:\\Users\\esped\\anaconda3\n",
      "\n",
      "c:\\Users\\esped\\anaconda3\\lib\\site-packages\n",
      "c:\\Users\\esped\\anaconda3\\lib\\site-packages\\win32\n",
      "c:\\Users\\esped\\anaconda3\\lib\\site-packages\\win32\\lib\n",
      "c:\\Users\\esped\\anaconda3\\lib\\site-packages\\Pythonwin\n"
     ]
    }
   ],
   "source": [
    "\"\"\"\n",
    "Esse comando em Python usa o módulo sys para imprimir todos os diretórios \n",
    "que estão atualmente no caminho de busca do Python. \n",
    "O caminho de busca (sys.path) é uma lista de diretórios onde o \n",
    "interpretador Python procura por módulos e pacotes quando você importa algo.\n",
    "\"\"\"\n",
    "import sys\n",
    "for path in sys.path:\n",
    "    print(path)"
   ]
  }
 ],
 "metadata": {
  "kernelspec": {
   "display_name": "base",
   "language": "python",
   "name": "python3"
  },
  "language_info": {
   "codemirror_mode": {
    "name": "ipython",
    "version": 3
   },
   "file_extension": ".py",
   "mimetype": "text/x-python",
   "name": "python",
   "nbconvert_exporter": "python",
   "pygments_lexer": "ipython3",
   "version": "3.10.9"
  }
 },
 "nbformat": 4,
 "nbformat_minor": 2
}
